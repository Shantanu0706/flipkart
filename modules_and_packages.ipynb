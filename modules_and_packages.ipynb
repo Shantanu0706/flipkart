{
  "nbformat": 4,
  "nbformat_minor": 0,
  "metadata": {
    "colab": {
      "provenance": []
    },
    "kernelspec": {
      "name": "python3",
      "display_name": "Python 3"
    },
    "language_info": {
      "name": "python"
    }
  },
  "cells": [
    {
      "cell_type": "code",
      "execution_count": null,
      "metadata": {
        "id": "8_CFpgBihx0q"
      },
      "outputs": [],
      "source": [
        "#module\n",
        "\n",
        "module is collection of functions and classes which are similar to each other\n",
        "\n",
        ".py -> python file\n",
        "\n",
        "1. Reusability\n",
        "2. Organization\n",
        "3. Readability\n",
        "\n",
        "module -> nikita.py -> cube, square, area\n",
        "\n",
        "import nikita\n",
        "\n",
        "nikita.cube(5)\n",
        "\n",
        "import nikita as nk #alias\n",
        "\n",
        "nk.cube(5)\n",
        "\n",
        "from nikita import cube, square\n",
        "\n",
        "cube(5)\n",
        "\n",
        "*************************************\n",
        "\n",
        "#package\n",
        "\n",
        "flipkart --> client\n",
        "\n",
        "directory or folder --> package -> flipkart\n",
        "shipping.py --> ship\n",
        "inventory.py\n",
        "sales.py\n",
        "\n",
        "modules -> already available\n",
        "\n",
        "\n",
        "import flipkart.shipping\n",
        "flipkart.shipping.ship()\n",
        "\n",
        "import flipkart.shipping as fs\n",
        "fs.ship()\n",
        "\n",
        "from flipkart import shipping, sales\n",
        "shipping.ship()\n"
      ]
    },
    {
      "cell_type": "code",
      "source": [
        "cube(5)"
      ],
      "metadata": {
        "colab": {
          "base_uri": "https://localhost:8080/",
          "height": 141
        },
        "id": "hXO3wXsAlrte",
        "outputId": "5c012d17-187b-4519-e97c-93500f0558d7"
      },
      "execution_count": null,
      "outputs": [
        {
          "output_type": "error",
          "ename": "NameError",
          "evalue": "name 'cube' is not defined",
          "traceback": [
            "\u001b[0;31m---------------------------------------------------------------------------\u001b[0m",
            "\u001b[0;31mNameError\u001b[0m                                 Traceback (most recent call last)",
            "\u001b[0;32m<ipython-input-1-63e571b7b38f>\u001b[0m in \u001b[0;36m<cell line: 1>\u001b[0;34m()\u001b[0m\n\u001b[0;32m----> 1\u001b[0;31m \u001b[0mcube\u001b[0m\u001b[0;34m(\u001b[0m\u001b[0;36m5\u001b[0m\u001b[0;34m)\u001b[0m\u001b[0;34m\u001b[0m\u001b[0;34m\u001b[0m\u001b[0m\n\u001b[0m",
            "\u001b[0;31mNameError\u001b[0m: name 'cube' is not defined"
          ]
        }
      ]
    }
  ]
}